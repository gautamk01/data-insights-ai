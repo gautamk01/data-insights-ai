{
 "cells": [
  {
   "cell_type": "code",
   "execution_count": 9,
   "id": "9e4c2f4a",
   "metadata": {},
   "outputs": [],
   "source": [
    "import pandas as pd\n",
    "\n",
    "# Define file paths\n",
    "ad_sales_path = 'dataset/Ad_Sales_and_Metrics.csv'\n",
    "total_sales_path = 'dataset/Product-Level_Total_Sales_and_Metrics.csv'\n",
    "eligibility_path = 'dataset/Product-Level_Eligibility_Table.csv'"
   ]
  },
  {
   "cell_type": "code",
   "execution_count": 10,
   "id": "bbacd519",
   "metadata": {},
   "outputs": [
    {
     "name": "stdout",
     "output_type": "stream",
     "text": [
      "--- Datasets loaded successfully! ---\n"
     ]
    }
   ],
   "source": [
    "df_ad_sales = pd.read_csv(ad_sales_path)\n",
    "df_total_sales = pd.read_csv(total_sales_path)\n",
    "df_eligibility = pd.read_csv(eligibility_path)\n",
    "\n",
    "print(\"--- Datasets loaded successfully! ---\")"
   ]
  },
  {
   "cell_type": "code",
   "execution_count": 11,
   "id": "9f26d922",
   "metadata": {},
   "outputs": [
    {
     "name": "stdout",
     "output_type": "stream",
     "text": [
      "\n",
      "--- Ad Sales Data Analysis ---\n",
      "Info:\n",
      "<class 'pandas.core.frame.DataFrame'>\n",
      "RangeIndex: 3696 entries, 0 to 3695\n",
      "Data columns (total 7 columns):\n",
      " #   Column       Non-Null Count  Dtype  \n",
      "---  ------       --------------  -----  \n",
      " 0   date         3696 non-null   object \n",
      " 1   item_id      3696 non-null   int64  \n",
      " 2   ad_sales     3696 non-null   float64\n",
      " 3   impressions  3696 non-null   int64  \n",
      " 4   ad_spend     3696 non-null   float64\n",
      " 5   clicks       3696 non-null   int64  \n",
      " 6   units_sold   3696 non-null   int64  \n",
      "dtypes: float64(2), int64(4), object(1)\n",
      "memory usage: 202.3+ KB\n",
      "\n",
      "First 5 Rows:\n",
      "         date  item_id  ad_sales  impressions  ad_spend  clicks  units_sold\n",
      "0  2025-06-01        0    332.96         1963     16.87       8           3\n",
      "1  2025-06-01        1      0.00         1764     20.39      11           0\n",
      "2  2025-06-01        2     95.99          169      0.48       0           1\n",
      "3  2025-06-01        3   1001.93         6943     75.69      31           9\n",
      "4  2025-06-01        4   1096.98        59046    401.39     285           5\n"
     ]
    }
   ],
   "source": [
    "print(\"\\n--- Ad Sales Data Analysis ---\")\n",
    "print(\"Info:\")\n",
    "df_ad_sales.info()\n",
    "print(\"\\nFirst 5 Rows:\")\n",
    "print(df_ad_sales.head())\n"
   ]
  },
  {
   "cell_type": "code",
   "execution_count": 12,
   "id": "c01bc2b8",
   "metadata": {},
   "outputs": [
    {
     "name": "stdout",
     "output_type": "stream",
     "text": [
      "\n",
      "--- Total Sales Data Analysis ---\n",
      "Info:\n",
      "<class 'pandas.core.frame.DataFrame'>\n",
      "RangeIndex: 702 entries, 0 to 701\n",
      "Data columns (total 4 columns):\n",
      " #   Column               Non-Null Count  Dtype  \n",
      "---  ------               --------------  -----  \n",
      " 0   date                 702 non-null    object \n",
      " 1   item_id              702 non-null    int64  \n",
      " 2   total_sales          702 non-null    float64\n",
      " 3   total_units_ordered  702 non-null    int64  \n",
      "dtypes: float64(1), int64(2), object(1)\n",
      "memory usage: 22.1+ KB\n",
      "\n",
      "First 5 Rows:\n",
      "         date  item_id  total_sales  total_units_ordered\n",
      "0  2025-06-01        0       309.99                    1\n",
      "1  2025-06-01        3       338.00                    2\n",
      "2  2025-06-01        4       617.99                    3\n",
      "3  2025-06-01        9       219.00                    1\n",
      "4  2025-06-01       12       534.00                    3\n"
     ]
    }
   ],
   "source": [
    "print(\"\\n--- Total Sales Data Analysis ---\")\n",
    "print(\"Info:\")\n",
    "df_total_sales.info()\n",
    "print(\"\\nFirst 5 Rows:\")\n",
    "print(df_total_sales.head())\n"
   ]
  },
  {
   "cell_type": "code",
   "execution_count": 13,
   "id": "d78f20cc",
   "metadata": {},
   "outputs": [
    {
     "name": "stdout",
     "output_type": "stream",
     "text": [
      "\n",
      "--- Product Eligibility Data Analysis ---\n",
      "Info:\n",
      "<class 'pandas.core.frame.DataFrame'>\n",
      "RangeIndex: 4381 entries, 0 to 4380\n",
      "Data columns (total 4 columns):\n",
      " #   Column                    Non-Null Count  Dtype \n",
      "---  ------                    --------------  ----- \n",
      " 0   eligibility_datetime_utc  4381 non-null   object\n",
      " 1   item_id                   4381 non-null   int64 \n",
      " 2   eligibility               4381 non-null   bool  \n",
      " 3   message                   636 non-null    object\n",
      "dtypes: bool(1), int64(1), object(2)\n",
      "memory usage: 107.1+ KB\n",
      "\n",
      "First 5 Rows:\n",
      "  eligibility_datetime_utc  item_id  eligibility  \\\n",
      "0       2025-06-04 8:50:07       29        False   \n",
      "1       2025-06-04 8:50:07      270         True   \n",
      "2       2025-06-04 8:50:07       31         True   \n",
      "3       2025-06-04 8:50:07       26         True   \n",
      "4       2025-06-04 8:50:07       25         True   \n",
      "\n",
      "                                             message  \n",
      "0  This product's cost to Amazon does not allow u...  \n",
      "1                                                NaN  \n",
      "2                                                NaN  \n",
      "3                                                NaN  \n",
      "4                                                NaN  \n"
     ]
    }
   ],
   "source": [
    "print(\"\\n--- Product Eligibility Data Analysis ---\")\n",
    "print(\"Info:\")\n",
    "df_eligibility.info()\n",
    "print(\"\\nFirst 5 Rows:\")\n",
    "print(df_eligibility.head())"
   ]
  },
  {
   "cell_type": "code",
   "execution_count": 14,
   "id": "e1802317",
   "metadata": {},
   "outputs": [
    {
     "name": "stdout",
     "output_type": "stream",
     "text": [
      "total_sales: bad dates = 0\n",
      "ad_sales: bad dates = 0\n",
      "eligibility: bad dates = 0\n"
     ]
    },
    {
     "data": {
      "text/plain": [
       "date                   datetime64[ns]\n",
       "item_id                         int64\n",
       "total_sales                   float64\n",
       "total_units_ordered             int64\n",
       "dtype: object"
      ]
     },
     "metadata": {},
     "output_type": "display_data"
    },
    {
     "data": {
      "text/plain": [
       "date           datetime64[ns]\n",
       "item_id                 int64\n",
       "ad_sales              float64\n",
       "impressions             int64\n",
       "ad_spend              float64\n",
       "clicks                  int64\n",
       "units_sold              int64\n",
       "dtype: object"
      ]
     },
     "metadata": {},
     "output_type": "display_data"
    },
    {
     "data": {
      "text/plain": [
       "eligibility_datetime_utc    datetime64[ns]\n",
       "item_id                              int64\n",
       "eligibility                           bool\n",
       "message                             object\n",
       "dtype: object"
      ]
     },
     "metadata": {},
     "output_type": "display_data"
    }
   ],
   "source": [
    "# 1.1 Datetime coercion\n",
    "for df, name in zip([df_total_sales, df_ad_sales, df_eligibility],\n",
    "                    ['total_sales','ad_sales','eligibility']):\n",
    "    col = 'date' if 'date' in df.columns else 'eligibility_datetime_utc'\n",
    "    df[col] = pd.to_datetime(df[col], errors='coerce')\n",
    "    print(f\"{name}: bad dates = {df[col].isna().sum()}\")\n",
    "\n",
    "# 1.2 Dtypes\n",
    "display(df_total_sales.dtypes, df_ad_sales.dtypes, df_eligibility.dtypes)\n",
    "\n"
   ]
  },
  {
   "cell_type": "code",
   "execution_count": 15,
   "id": "0d63a17d",
   "metadata": {},
   "outputs": [],
   "source": [
    "# 1.3 Duplicates\n",
    "for df,name in [(df_total_sales,'total'),(df_ad_sales,'ad'),(df_eligibility,'eligibility')]:\n",
    "    dup = df.duplicated().sum()\n",
    "    if dup:\n",
    "        print(f\"{name} has {dup} dups → dropping\")\n",
    "        df.drop_duplicates(inplace=True)"
   ]
  },
  {
   "cell_type": "code",
   "execution_count": 16,
   "id": "569d6ecf",
   "metadata": {},
   "outputs": [
    {
     "name": "stdout",
     "output_type": "stream",
     "text": [
      "Total Sales $ 1004904.56\n"
     ]
    }
   ],
   "source": [
    "# 2.1 Sales universe\n",
    "total_sales_usd = df_total_sales['total_sales'].sum()\n",
    "print(\"Total Sales $\", total_sales_usd)"
   ]
  },
  {
   "cell_type": "code",
   "execution_count": 17,
   "id": "8431738d",
   "metadata": {},
   "outputs": [
    {
     "name": "stdout",
     "output_type": "stream",
     "text": [
      "RoAS 7.92\n"
     ]
    }
   ],
   "source": [
    "# 2.2 Ad universe\n",
    "total_ad_spend = df_ad_sales['ad_spend'].sum()\n",
    "total_ad_revenue = df_ad_sales['ad_sales'].sum()\n",
    "roas = total_ad_revenue / total_ad_spend\n",
    "print(\"RoAS\", round(roas,2))\n",
    "\n"
   ]
  },
  {
   "cell_type": "code",
   "execution_count": 20,
   "id": "b32da1ff",
   "metadata": {},
   "outputs": [
    {
     "name": "stdout",
     "output_type": "stream",
     "text": [
      "Highest CPC item_id 22 CPC $ 10.21\n"
     ]
    }
   ],
   "source": [
    "# 2.3 CPC winner which product had the highest CPC (Cost Per Click) \n",
    "valid = df_ad_sales[df_ad_sales['clicks'] > 0]\n",
    "top_cpc = valid.loc[valid['ad_spend'].div(valid['clicks']).idxmax()]\n",
    "print(\"Highest CPC item_id\", top_cpc['item_id'],\n",
    "      \"CPC $\", round(top_cpc['ad_spend'] / top_cpc['clicks'], 2))"
   ]
  },
  {
   "cell_type": "code",
   "execution_count": 19,
   "id": "41f00415",
   "metadata": {},
   "outputs": [
    {
     "data": {
      "text/html": [
       "<div>\n",
       "<style scoped>\n",
       "    .dataframe tbody tr th:only-of-type {\n",
       "        vertical-align: middle;\n",
       "    }\n",
       "\n",
       "    .dataframe tbody tr th {\n",
       "        vertical-align: top;\n",
       "    }\n",
       "\n",
       "    .dataframe thead th {\n",
       "        text-align: right;\n",
       "    }\n",
       "</style>\n",
       "<table border=\"1\" class=\"dataframe\">\n",
       "  <thead>\n",
       "    <tr style=\"text-align: right;\">\n",
       "      <th></th>\n",
       "      <th>date</th>\n",
       "      <th>spend</th>\n",
       "      <th>revenue</th>\n",
       "      <th>clicks</th>\n",
       "      <th>units</th>\n",
       "      <th>cpc</th>\n",
       "      <th>roas</th>\n",
       "    </tr>\n",
       "  </thead>\n",
       "  <tbody>\n",
       "    <tr>\n",
       "      <th>0</th>\n",
       "      <td>2025-06-01</td>\n",
       "      <td>3336.36</td>\n",
       "      <td>35500.25</td>\n",
       "      <td>2247</td>\n",
       "      <td>328</td>\n",
       "      <td>1.484806</td>\n",
       "      <td>10.640414</td>\n",
       "    </tr>\n",
       "    <tr>\n",
       "      <th>1</th>\n",
       "      <td>2025-06-02</td>\n",
       "      <td>3666.69</td>\n",
       "      <td>38854.82</td>\n",
       "      <td>2430</td>\n",
       "      <td>329</td>\n",
       "      <td>1.508926</td>\n",
       "      <td>10.596702</td>\n",
       "    </tr>\n",
       "    <tr>\n",
       "      <th>2</th>\n",
       "      <td>2025-06-03</td>\n",
       "      <td>4073.99</td>\n",
       "      <td>25980.76</td>\n",
       "      <td>2596</td>\n",
       "      <td>237</td>\n",
       "      <td>1.569334</td>\n",
       "      <td>6.377227</td>\n",
       "    </tr>\n",
       "    <tr>\n",
       "      <th>3</th>\n",
       "      <td>2025-06-04</td>\n",
       "      <td>3477.09</td>\n",
       "      <td>27791.60</td>\n",
       "      <td>2240</td>\n",
       "      <td>219</td>\n",
       "      <td>1.552272</td>\n",
       "      <td>7.992776</td>\n",
       "    </tr>\n",
       "    <tr>\n",
       "      <th>4</th>\n",
       "      <td>2025-06-05</td>\n",
       "      <td>2875.91</td>\n",
       "      <td>23431.55</td>\n",
       "      <td>1870</td>\n",
       "      <td>208</td>\n",
       "      <td>1.537920</td>\n",
       "      <td>8.147525</td>\n",
       "    </tr>\n",
       "  </tbody>\n",
       "</table>\n",
       "</div>"
      ],
      "text/plain": [
       "        date    spend   revenue  clicks  units       cpc       roas\n",
       "0 2025-06-01  3336.36  35500.25    2247    328  1.484806  10.640414\n",
       "1 2025-06-02  3666.69  38854.82    2430    329  1.508926  10.596702\n",
       "2 2025-06-03  4073.99  25980.76    2596    237  1.569334   6.377227\n",
       "3 2025-06-04  3477.09  27791.60    2240    219  1.552272   7.992776\n",
       "4 2025-06-05  2875.91  23431.55    1870    208  1.537920   8.147525"
      ]
     },
     "execution_count": 19,
     "metadata": {},
     "output_type": "execute_result"
    }
   ],
   "source": [
    "# Daily KPI dataframe (needed for charts & streaming demo)\n",
    "kpis = (df_ad_sales\n",
    "        .groupby('date')\n",
    "        .agg(spend=('ad_spend','sum'),\n",
    "             revenue=('ad_sales','sum'),\n",
    "             clicks=('clicks','sum'),\n",
    "             units=('units_sold','sum'))\n",
    "        .assign(cpc = lambda x: x['spend']/x['clicks'],\n",
    "                roas = lambda x: x['revenue']/x['spend'])\n",
    "        .reset_index())\n",
    "kpis.head()"
   ]
  },
  {
   "cell_type": "code",
   "execution_count": 22,
   "id": "476908f7",
   "metadata": {},
   "outputs": [
    {
     "name": "stdout",
     "output_type": "stream",
     "text": [
      "Post-merge nulls: date                      0\n",
      "item_id                   0\n",
      "ad_sales                  0\n",
      "impressions               0\n",
      "ad_spend                  0\n",
      "clicks                    0\n",
      "units_sold                0\n",
      "eligibility               0\n",
      "total_sales            2520\n",
      "total_units_ordered    2520\n",
      "dtype: int64\n"
     ]
    }
   ],
   "source": [
    "# 4.1 Bring eligibility flag into ad_sales\n",
    "df_ad_sales = df_ad_sales.merge(\n",
    "    df_eligibility[['item_id','eligibility']].drop_duplicates(),\n",
    "    on='item_id', how='left')\n",
    "\n",
    "# 4.2 Bring total_sales into ad_sales (if you want RoAS per item)\n",
    "df_ad_sales = df_ad_sales.merge(\n",
    "    df_total_sales[['item_id','total_sales','total_units_ordered']],\n",
    "    on='item_id', how='left', suffixes=('','_organic'))\n",
    "print(\"Post-merge nulls:\", df_ad_sales.isna().sum())"
   ]
  },
  {
   "cell_type": "code",
   "execution_count": 23,
   "id": "cd97e346",
   "metadata": {},
   "outputs": [
    {
     "name": "stdout",
     "output_type": "stream",
     "text": [
      "✅ Cleaned tables written to ecom.db\n"
     ]
    }
   ],
   "source": [
    "# Save to SQLite so your Day-1 ingestion script is already perfect\n",
    "import sqlite3, os\n",
    "os.makedirs('data/processed', exist_ok=True)\n",
    "with sqlite3.connect('data/processed/ecom.db') as conn:\n",
    "    df_total_sales.to_sql('total_sales', conn, index=False, if_exists='replace')\n",
    "    df_ad_sales.to_sql('ad_sales', conn, index=False, if_exists='replace')\n",
    "    df_eligibility.to_sql('eligibility', conn, index=False, if_exists='replace')\n",
    "    kpis.to_sql('daily_kpis', conn, index=False, if_exists='replace')\n",
    "print(\"✅ Cleaned tables written to ecom.db\")"
   ]
  },
  {
   "cell_type": "code",
   "execution_count": 25,
   "id": "ad599ab0",
   "metadata": {},
   "outputs": [
    {
     "data": {
      "image/png": "[encoded data removed]",
      "text/plain": [
       "<Figure size 600x200 with 1 Axes>"
      ]
     },
     "metadata": {},
     "output_type": "display_data"
    }
   ],
   "source": [
    "import matplotlib.pyplot as plt\n",
    "kpis.set_index('date')[['revenue','spend']].plot(figsize=(6,2), title='Revenue vs Spend')\n",
    "plt.tight_layout(); plt.savefig('data/processed/revenue_vs_spend.png')"
   ]
  },
  {
   "cell_type": "code",
   "execution_count": 26,
   "id": "7d812273",
   "metadata": {},
   "outputs": [
    {
     "name": "stdout",
     "output_type": "stream",
     "text": [
      "Tables inside ecom.db: ['total_sales', 'ad_sales', 'eligibility', 'daily_kpis']\n"
     ]
    }
   ],
   "source": [
    "import sqlite3\n",
    "with sqlite3.connect('data/processed/ecom.db') as conn:\n",
    "    cursor = conn.execute(\"SELECT name FROM sqlite_master WHERE type='table';\")\n",
    "    print(\"Tables inside ecom.db:\", [t[0] for t in cursor.fetchall()])"
   ]
  },
  {
   "cell_type": "code",
   "execution_count": null,
   "id": "922cf6d5",
   "metadata": {},
   "outputs": [],
   "source": []
  }
 ],
 "metadata": {
  "kernelspec": {
   "display_name": "agentai",
   "language": "python",
   "name": "python3"
  },
  "language_info": {
   "codemirror_mode": {
    "name": "ipython",
    "version": 3
   },
   "file_extension": ".py",
   "mimetype": "text/x-python",
   "name": "python",
   "nbconvert_exporter": "python",
   "pygments_lexer": "ipython3",
   "version": "3.12.3"
  }
 },
 "nbformat": 4,
 "nbformat_minor": 5
}
